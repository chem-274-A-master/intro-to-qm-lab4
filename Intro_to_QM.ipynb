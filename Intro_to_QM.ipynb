{
 "cells": [
  {
   "cell_type": "markdown",
   "id": "2045f377-57e5-459a-9eea-f5492ab0d562",
   "metadata": {},
   "source": [
    "# Interaction Energies and Potential Energy Surfaces\n",
    "\n",
    "Electronic Structure Theory (QM) can be used to compute the total energy of a molecule. This energy is defined as relative to\n",
    "all nuclei and electrons being infinitely far apart.\n",
    "\n",
    "This total energy is not particularly meaningful by itself, however *relative* energies are useful. Among the more useful things you can\n",
    "do is compute the **interaction energy** between two (or more) molecules.\n",
    "\n",
    "For this lab, we will focus on the interaction energy of two water molecules (a dimer). To compute the interaction energy $IE$,\n",
    "we first compute the total energy of the dimer $E_{AB}$, then subtract the energy of each of the monomers $E_A$ and $E_B$.\n",
    "\n",
    "$$ IE = E_{AB} - (E_A + E_B) $$\n",
    "\n",
    "We will then compute the interaction energy varying the distance between the two water molecules, and then plot that surface."
   ]
  },
  {
   "cell_type": "markdown",
   "id": "491f10ca-1fb2-4a74-8e52-11477574d07a",
   "metadata": {},
   "source": [
    "## Computing energies with psi4\n",
    "\n",
    "Psi4 (https://psicode.org) is an open-source package for running QM computations, written in C++ but with extensive python bindings.\n",
    "First, we will import psi4, and a few other helpful packages"
   ]
  },
  {
   "cell_type": "code",
   "execution_count": null,
   "id": "3a102a79-6d92-46d2-a8ba-1b27fa7ea225",
   "metadata": {},
   "outputs": [],
   "source": [
    "import psi4\n",
    "import numpy as np\n",
    "import matplotlib.pyplot as plt\n",
    "%matplotlib inline\n",
    "\n",
    "# Set the amount of memory psi4 will use in calculations\n",
    "# 1 GB should be enough for this lab\n",
    "psi4.set_memory('1 GB')"
   ]
  },
  {
   "cell_type": "markdown",
   "id": "031d980a-c3fa-47cf-9d78-64d1d5598a04",
   "metadata": {},
   "source": [
    "To compute the energy of a molecule, we need to\n",
    "\n",
    "1. Define our molecule with `psi4.geometry`\n",
    "1. Set the output file (optional, but if not done, output will be sent to this notebook)\n",
    "1. Call `psi4.energy`, passing the level of theory and molecule"
   ]
  },
  {
   "cell_type": "markdown",
   "id": "0fa8aa45-fd01-457a-9d3e-1affa1988ab2",
   "metadata": {},
   "source": [
    "### Defining a molecule\n",
    "\n",
    "One way to define a molecule is with the XYZ format. In this format, each line contains the atomic symbol, followed by the x, y, and z coordinates. The last line here will define our units."
   ]
  },
  {
   "cell_type": "code",
   "execution_count": null,
   "id": "0ef901a5-28de-4ab0-ac47-06ad368b64e2",
   "metadata": {},
   "outputs": [],
   "source": [
    "water = psi4.geometry(\n",
    "        f\"\"\"\n",
    "        O                     1.548014347149      0.000000000000     0.060071441686\n",
    "        H                     0.548241218221      0.000000000000     0.038771425885\n",
    "        H                     1.819295099755      0.000000000000    -0.902428819751\n",
    "        units angstrom\n",
    "        \"\"\"   \n",
    "        )"
   ]
  },
  {
   "cell_type": "markdown",
   "id": "4894f0d8-ada7-4c1e-bfdd-fce7725b44f1",
   "metadata": {},
   "source": [
    "### Setting the output"
   ]
  },
  {
   "cell_type": "code",
   "execution_count": null,
   "id": "52f98c38-a963-4544-a987-852406bdc08b",
   "metadata": {},
   "outputs": [],
   "source": [
    "psi4.set_output_file(\"water_energy.out\")"
   ]
  },
  {
   "cell_type": "markdown",
   "id": "5f1d4acc-4bdb-44a6-a6d6-09789d963626",
   "metadata": {},
   "source": [
    "### Run the computation\n",
    "\n",
    "The first argument to `psi4.energy` is the level of theory, then we can pass in the molecule."
   ]
  },
  {
   "cell_type": "code",
   "execution_count": null,
   "id": "02bf3cfe-6536-4337-b8eb-638485e92250",
   "metadata": {},
   "outputs": [],
   "source": [
    "energy = psi4.energy('hf/sto-3g', mol=water)\n",
    "print(f\"The energy of water is {energy} hartrees at the hf/sto-3g level of theory\")"
   ]
  },
  {
   "cell_type": "markdown",
   "id": "1c044f59-622d-4e25-9b0d-bd27b6c23ffb",
   "metadata": {},
   "source": [
    "The typical unit of energy is the `hartree`. This, and the `bohr`, are part of a system of units called `atomic units`. `1 hartree` is approximately `627.509 kcal/mol`"
   ]
  },
  {
   "cell_type": "markdown",
   "id": "474293a7-ec13-4513-9497-23a9e43ec4ef",
   "metadata": {},
   "source": [
    "### Exercise\n",
    "\n",
    "Modify the water molecule and recompute the energy. Does the energy increase or decrease?"
   ]
  },
  {
   "cell_type": "markdown",
   "id": "7cb5d519-998c-46c2-bdb5-04563dc07373",
   "metadata": {},
   "source": [
    "## Computing the interaction energy\n",
    "\n",
    "Below is the coordinates for a water dimer in units of **angstroms**. The first 3 lines are one molecule, then the last 3 lines are the second.\n",
    "\n",
    "```\n",
    "        O                     1.548014347149    0.000000000000     0.060071441686\n",
    "        H                     0.548241218221    0.000000000000     0.038771425885\n",
    "        H                     1.819295099755    0.000000000000    -0.902428819751\n",
    "        O                    -2.000000000000    0.000000000000    -0.003828605717\n",
    "        H                    -2.499886564464    0.866025403784    -0.014478613618\n",
    "        H                    -2.499886564464   -0.866025403784    -0.014478613618\n",
    "```\n",
    "\n",
    "### Exercise\n",
    "\n",
    "1. Compute the interaction energy of this water dimer at the `hf/sto-3g` level of theory. You will need 3 computations (one for the dimer, then one for each monomer)\n",
    "2. Compute at the following levels of theory, and compare their energies:\n",
    "    1. `b3lyp/sto-3g`\n",
    "    1. `b3lyp/def2/svp`\n",
    "\n",
    "**HINT**: Write a function that takes the level of theory as an argument, runs the three computations, then returns the computed interaction energy\n"
   ]
  },
  {
   "cell_type": "markdown",
   "id": "e6677c88-2843-4f48-ad3f-e9efb0d65bd2",
   "metadata": {},
   "source": [
    "## Varying the distance between water molecules\n",
    "\n",
    "Next, we would like to vary the distance between the two water molecules. To do this, we can create a template of an molecule coordinates block, which we will substitute in values.\n",
    "We will use python 'fstrings', which will automatically substitute in values and evaluate some expressions.\n",
    "\n",
    "We are moving one of the water molecules along the X coordinate, so we add our desired distance to the x coordinate of one of the molecules. The easiest way to do this is with a function"
   ]
  },
  {
   "cell_type": "markdown",
   "id": "a1db9d2c-eb80-4b02-97a4-0add2569a40f",
   "metadata": {},
   "source": [
    "![Water Dimer 1](images/water_dimer_1.png)\n",
    "\n",
    "\n",
    "![Water Dimer 2](images/water_dimer_2.png)"
   ]
  },
  {
   "cell_type": "code",
   "execution_count": null,
   "id": "73b1490b-d95e-48e9-ae83-69364b5ea631",
   "metadata": {},
   "outputs": [],
   "source": [
    "def create_dimer(distance):\n",
    "    return psi4.geometry(\n",
    "        f\"\"\"\n",
    "        O                     1.548014347149             0.000000000000     0.060071441686\n",
    "        H                     0.548241218221             0.000000000000     0.038771425885\n",
    "        H                     1.819295099755             0.000000000000    -0.902428819751\n",
    "        O                    {distance}                  0.000000000000    -0.003828605717\n",
    "        H                    {distance-0.499886564464}   0.866025403784    -0.014478613618\n",
    "        H                    {distance-0.499886564464}  -0.866025403784    -0.014478613618\n",
    "        units angstrom\n",
    "        \"\"\"\n",
    "    )"
   ]
  },
  {
   "cell_type": "markdown",
   "id": "3045242c-43d5-441d-993f-83b57ef2169f",
   "metadata": {},
   "source": [
    "### Excercise\n",
    "\n",
    "Create a function that returns the two monomers that will be needed to calculate the interaction energies"
   ]
  },
  {
   "cell_type": "markdown",
   "id": "088f96da-8e47-465d-b8b5-682f6ed99d19",
   "metadata": {},
   "source": [
    "### Exercise: Creating the Potential Energy Surface\n",
    "\n",
    "Now with functions for the monomers and dimers, we can run energy calculations along various distances\n",
    "\n",
    "#### Outline\n",
    "\n",
    "1. Write a function that computes the interaction energy at a given distance. The distance and the level of theory should be parameters to the function.\n",
    "2. Use the numpy linspace function to create the distances you are going to compute. For this molecule, **go from -5.0 to -0.5 with 30 points**.\n",
    "3. Compute using the `hf/sto-3g` level of theory.\n",
    "4. Append the energies to a list, and then make a plot with matplotlib showing distance vs. interaction energy\n",
    "\n",
    "**BONUS**: Plot with additional levels of theory:\n",
    "1. `b3lyp/def2-svp`\n",
    "2. `b3lyp/aug-cc-pvdz`\n",
    "3. `mp2/sto-3g`"
   ]
  },
  {
   "cell_type": "code",
   "execution_count": null,
   "id": "0673e927-84e3-4fab-9b32-b7002ed35e5f",
   "metadata": {},
   "outputs": [],
   "source": []
  }
 ],
 "metadata": {
  "kernelspec": {
   "display_name": "Python 3 (ipykernel)",
   "language": "python",
   "name": "python3"
  },
  "language_info": {
   "codemirror_mode": {
    "name": "ipython",
    "version": 3
   },
   "file_extension": ".py",
   "mimetype": "text/x-python",
   "name": "python",
   "nbconvert_exporter": "python",
   "pygments_lexer": "ipython3",
   "version": "3.11.5"
  }
 },
 "nbformat": 4,
 "nbformat_minor": 5
}
